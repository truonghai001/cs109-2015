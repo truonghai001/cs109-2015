{
 "cells": [
  {
   "cell_type": "code",
   "execution_count": 15,
   "metadata": {
    "collapsed": false
   },
   "outputs": [],
   "source": [
    "%matplotlib inline\n",
    "\n",
    "import numpy as np\n",
    "import scipy as sp\n",
    "import matplotlib as mpl\n",
    "import matplotlib.cm as cm # allows us easy access to colormaps\n",
    "import matplotlib.pyplot as plt # sets up plotting under plt\n",
    "import pandas as pd\n",
    "#set pandas display\n",
    "pd.set_option('display.width', 500)\n",
    "pd.set_option('display.max_columns', 100)\n",
    "pd.set_option('display.notebook_repr_html', True)\n",
    "import seaborn as sns\n",
    "import os"
   ]
  },
  {
   "cell_type": "code",
   "execution_count": 4,
   "metadata": {
    "collapsed": false
   },
   "outputs": [
    {
     "name": "stdout",
     "output_type": "stream",
     "text": [
      "0.8333333333333334\n",
      "<class 'float'>\n"
     ]
    }
   ],
   "source": [
    "a = 5.0/6.0\n",
    "print(a)\n",
    "print(type(a))"
   ]
  },
  {
   "cell_type": "markdown",
   "metadata": {},
   "source": [
    "## Python and Interation and Files"
   ]
  },
  {
   "cell_type": "code",
   "execution_count": 5,
   "metadata": {
    "collapsed": false
   },
   "outputs": [
    {
     "data": {
      "text/plain": [
       "[1, 4, 9, 16, 25]"
      ]
     },
     "execution_count": 5,
     "metadata": {},
     "output_type": "execute_result"
    }
   ],
   "source": [
    "alist = [1,2,3,4,5]\n",
    "asquaredlist = [i*i for i in alist]\n",
    "asquaredlist"
   ]
  },
  {
   "cell_type": "code",
   "execution_count": 10,
   "metadata": {
    "collapsed": false
   },
   "outputs": [
    {
     "data": {
      "text/plain": [
       "(<enumerate at 0x1f67b0afb88>, <zip at 0x1f67c0a7f88>)"
      ]
     },
     "execution_count": 10,
     "metadata": {},
     "output_type": "execute_result"
    }
   ],
   "source": [
    "enumerate(asquaredlist), zip(alist, asquaredlist)"
   ]
  },
  {
   "cell_type": "code",
   "execution_count": 11,
   "metadata": {
    "collapsed": false
   },
   "outputs": [
    {
     "data": {
      "text/plain": [
       "[(0, 1), (1, 4), (2, 9), (3, 16), (4, 25)]"
      ]
     },
     "execution_count": 11,
     "metadata": {},
     "output_type": "execute_result"
    }
   ],
   "source": [
    "[k for k in enumerate(asquaredlist)]"
   ]
  },
  {
   "cell_type": "code",
   "execution_count": 57,
   "metadata": {
    "collapsed": false
   },
   "outputs": [],
   "source": [
    "linelengths = [len(line) for line in open(os.path.realpath('hamlet.txt'))]"
   ]
  },
  {
   "cell_type": "code",
   "execution_count": 53,
   "metadata": {
    "collapsed": false
   },
   "outputs": [
    {
     "data": {
      "text/plain": [
       "(173944, 25.693353028064994, 25.0, 21.030298888208062)"
      ]
     },
     "execution_count": 53,
     "metadata": {},
     "output_type": "execute_result"
    }
   ],
   "source": [
    "sum(linelengths), np.mean(linelengths), np.median(linelengths), np.std(linelengths)"
   ]
  },
  {
   "cell_type": "code",
   "execution_count": 58,
   "metadata": {
    "collapsed": false
   },
   "outputs": [
    {
     "name": "stdout",
     "output_type": "stream",
     "text": [
      "31659\n"
     ]
    }
   ],
   "source": [
    "with open(os.path.realpath('hamlet.txt')) as hamletfile:\n",
    "    hamlettext = hamletfile.read()\n",
    "    hamlettokens = hamlettext.split()\n",
    "    print(len(hamlettokens))"
   ]
  },
  {
   "cell_type": "code",
   "execution_count": 60,
   "metadata": {
    "collapsed": false
   },
   "outputs": [
    {
     "name": "stdout",
     "output_type": "stream",
     "text": [
      "['HAMLET,', 'PRINCE', 'OF']\n",
      "['HAMLET,', 'OF', 'by', 'Shakespeare']\n"
     ]
    }
   ],
   "source": [
    "print (hamlettokens[1:4])\n",
    "print(hamlettokens[1:8:2])"
   ]
  },
  {
   "cell_type": "markdown",
   "metadata": {},
   "source": [
    "### Dictionaries"
   ]
  },
  {
   "cell_type": "code",
   "execution_count": 61,
   "metadata": {
    "collapsed": false
   },
   "outputs": [
    {
     "name": "stdout",
     "output_type": "stream",
     "text": [
      "['two', 'three', 'one']\n",
      "[('two', 2), ('three', 3), ('one', 1)]\n",
      "dict_values([2, 3, 1])\n"
     ]
    }
   ],
   "source": [
    "adict = {'one':1, 'two':2, 'three':3}\n",
    "print([i for i in adict])\n",
    "print([(k,v) for k, v in adict.items()])\n",
    "print(adict.values())"
   ]
  },
  {
   "cell_type": "code",
   "execution_count": 74,
   "metadata": {
    "collapsed": false
   },
   "outputs": [
    {
     "name": "stdout",
     "output_type": "stream",
     "text": [
      "dict_values([0, 1, 8, 27, 64, 125, 216, 343, 512, 729])\n"
     ]
    }
   ],
   "source": [
    "mydict = {k:v for (k,v) in zip(list(range(10)), [item ** 3 for item in range(10)])}\n",
    "mydict\n",
    "print(mydict.values())"
   ]
  },
  {
   "cell_type": "code",
   "execution_count": 75,
   "metadata": {
    "collapsed": false
   },
   "outputs": [
    {
     "data": {
      "text/plain": [
       "True"
      ]
     },
     "execution_count": 75,
     "metadata": {},
     "output_type": "execute_result"
    }
   ],
   "source": [
    "a=[1,2,3,4,5]\n",
    "1 in a"
   ]
  },
  {
   "cell_type": "code",
   "execution_count": 78,
   "metadata": {
    "collapsed": false
   },
   "outputs": [
    {
     "name": "stdout",
     "output_type": "stream",
     "text": [
      "One\n",
      "Two\n",
      "4\n",
      "None None None\n"
     ]
    }
   ],
   "source": [
    "def do_it(x):\n",
    "    if x == 1:\n",
    "        print('One')\n",
    "    elif x == 2:\n",
    "        print('Two')\n",
    "    else:\n",
    "        print(x)\n",
    "print(do_it(1), do_it(2), do_it(4))"
   ]
  },
  {
   "cell_type": "code",
   "execution_count": 80,
   "metadata": {
    "collapsed": false
   },
   "outputs": [
    {
     "name": "stdout",
     "output_type": "stream",
     "text": [
      "0\n",
      "1\n",
      "2\n",
      "3\n",
      "4\n",
      "5\n",
      "6\n"
     ]
    }
   ],
   "source": [
    "for i in range(10):\n",
    "    print(i)\n",
    "    if (i > 5):\n",
    "        break"
   ]
  },
  {
   "cell_type": "markdown",
   "metadata": {},
   "source": [
    "### Exceptions"
   ]
  },
  {
   "cell_type": "code",
   "execution_count": 81,
   "metadata": {
    "collapsed": false
   },
   "outputs": [
    {
     "data": {
      "text/plain": [
       "95"
      ]
     },
     "execution_count": 81,
     "metadata": {},
     "output_type": "execute_result"
    }
   ],
   "source": [
    "hamlettokens = [word.lower() for word in hamlettokens]\n",
    "hamlettokens.count('thou')"
   ]
  },
  {
   "cell_type": "code",
   "execution_count": 89,
   "metadata": {
    "collapsed": false
   },
   "outputs": [
    {
     "data": {
      "text/plain": [
       "[('the', 1136),\n",
       " ('and', 943),\n",
       " ('to', 720),\n",
       " ('of', 667),\n",
       " ('a', 527),\n",
       " ('my', 512),\n",
       " ('i', 510),\n",
       " ('in', 420),\n",
       " ('you', 412),\n",
       " ('ham.', 358),\n",
       " ('that', 337),\n",
       " ('it', 324),\n",
       " ('is', 320),\n",
       " ('his', 295),\n",
       " ('not', 270),\n",
       " ('with', 264),\n",
       " ('this', 250),\n",
       " ('your', 241),\n",
       " ('for', 231),\n",
       " ('but', 228),\n",
       " ('as', 216),\n",
       " ('he', 202),\n",
       " ('be', 201),\n",
       " ('what', 183),\n",
       " ('have', 174),\n",
       " ('will', 149),\n",
       " ('so', 143),\n",
       " ('me', 142),\n",
       " ('we', 132),\n",
       " ('do', 128),\n",
       " ('are', 126),\n",
       " ('him', 122),\n",
       " ('our', 119),\n",
       " ('king.', 113),\n",
       " ('by', 111),\n",
       " ('hor.', 110),\n",
       " ('if', 109),\n",
       " ('on', 109),\n",
       " ('or', 109),\n",
       " ('no', 107),\n",
       " ('shall', 106),\n",
       " ('thou', 95),\n",
       " ('all', 95),\n",
       " ('from', 95),\n",
       " ('they', 93),\n",
       " ('let', 92),\n",
       " ('good', 88),\n",
       " ('pol.', 86),\n",
       " ('at', 86),\n",
       " ('thy', 86),\n",
       " ('how', 84),\n",
       " ('most', 82),\n",
       " ('lord,', 81),\n",
       " ('queen.', 76),\n",
       " ('more', 76),\n",
       " ('her', 76),\n",
       " ('like', 75),\n",
       " ('would', 74),\n",
       " ('was', 73),\n",
       " (\"'tis\", 70),\n",
       " ('you,', 66),\n",
       " ('may', 65),\n",
       " ('very', 64),\n",
       " ('hath', 62),\n",
       " ('laer.', 62),\n",
       " ('[enter', 61),\n",
       " ('lord.', 60),\n",
       " ('did', 59),\n",
       " ('oph.', 58),\n",
       " ('give', 58),\n",
       " ('must', 58),\n",
       " ('know', 57),\n",
       " ('o,', 57),\n",
       " ('their', 57),\n",
       " (\"i'll\", 56),\n",
       " ('which', 55),\n",
       " ('should', 55),\n",
       " ('an', 55),\n",
       " ('come', 54),\n",
       " ('when', 54),\n",
       " ('some', 54),\n",
       " ('upon', 53),\n",
       " ('make', 53),\n",
       " ('am', 52),\n",
       " ('such', 51),\n",
       " ('ros.', 51),\n",
       " ('than', 51),\n",
       " ('there', 50),\n",
       " ('where', 49),\n",
       " ('now', 48),\n",
       " ('go', 48),\n",
       " ('us', 46),\n",
       " ('o', 46),\n",
       " ('clown.', 45),\n",
       " ('them', 44),\n",
       " ('much', 44),\n",
       " ('these', 44),\n",
       " ('had', 44),\n",
       " ('she', 43),\n",
       " ('out', 43)]"
      ]
     },
     "execution_count": 89,
     "metadata": {},
     "output_type": "execute_result"
    }
   ],
   "source": [
    "uniqueTokens = np.unique(hamlettokens)\n",
    "tokenDict = {}\n",
    "for ut in uniqueTokens:\n",
    "    tokenDict[ut] = hamlettokens.count(ut)\n",
    "\n",
    "# find the 100 most used words...\n",
    "L=sorted(tokenDict.items(), key= lambda x: x[1], reverse=True)[:100]\n",
    "L"
   ]
  },
  {
   "cell_type": "code",
   "execution_count": 91,
   "metadata": {
    "collapsed": false
   },
   "outputs": [
    {
     "name": "stdout",
     "output_type": "stream",
     "text": [
      "[('the', 1136), ('and', 943), ('to', 720), ('of', 667), ('a', 527), ('my', 512), ('i', 510), ('in', 420), ('you', 412), ('ham.', 358), ('that', 337), ('it', 324), ('is', 320), ('his', 295), ('not', 270), ('with', 264), ('this', 250), ('your', 241), ('for', 231), ('but', 228)]\n"
     ]
    },
    {
     "data": {
      "text/plain": [
       "([<matplotlib.axis.XTick at 0x1f67c0c2fd0>,\n",
       "  <matplotlib.axis.XTick at 0x1f67c6177f0>,\n",
       "  <matplotlib.axis.XTick at 0x1f678402eb8>,\n",
       "  <matplotlib.axis.XTick at 0x1f67c68e3c8>,\n",
       "  <matplotlib.axis.XTick at 0x1f67c68eeb8>,\n",
       "  <matplotlib.axis.XTick at 0x1f67c6fe9e8>,\n",
       "  <matplotlib.axis.XTick at 0x1f67c6ff518>,\n",
       "  <matplotlib.axis.XTick at 0x1f67c703048>,\n",
       "  <matplotlib.axis.XTick at 0x1f67c703b38>,\n",
       "  <matplotlib.axis.XTick at 0x1f67c705668>,\n",
       "  <matplotlib.axis.XTick at 0x1f67c707198>,\n",
       "  <matplotlib.axis.XTick at 0x1f67c707c88>,\n",
       "  <matplotlib.axis.XTick at 0x1f67c7097b8>,\n",
       "  <matplotlib.axis.XTick at 0x1f67c70c2e8>,\n",
       "  <matplotlib.axis.XTick at 0x1f67c70cdd8>,\n",
       "  <matplotlib.axis.XTick at 0x1f67c710908>,\n",
       "  <matplotlib.axis.XTick at 0x1f67c711438>,\n",
       "  <matplotlib.axis.XTick at 0x1f67c711f28>,\n",
       "  <matplotlib.axis.XTick at 0x1f67c714a58>,\n",
       "  <matplotlib.axis.XTick at 0x1f67c716588>],\n",
       " <a list of 20 Text xticklabel objects>)"
      ]
     },
     "execution_count": 91,
     "metadata": {},
     "output_type": "execute_result"
    },
    {
     "data": {
      "image/png": "[encoded data removed]",
      "text/plain": [
       "<matplotlib.figure.Figure at 0x1f67c18d588>"
      ]
     },
     "metadata": {},
     "output_type": "display_data"
    }
   ],
   "source": [
    "# Get the top 20 of this and plot a bar chart\n",
    "topfreq = L[:20]\n",
    "print(topfreq)\n",
    "pos = np.arange(len(topfreq))\n",
    "plt.bar(pos, [e[1] for e in topfreq])\n",
    "plt.xticks(pos+0.4, [e[0] for e in topfreq])"
   ]
  },
  {
   "cell_type": "code",
   "execution_count": null,
   "metadata": {
    "collapsed": true
   },
   "outputs": [],
   "source": []
  }
 ],
 "metadata": {
  "kernelspec": {
   "display_name": "Python 3",
   "language": "python",
   "name": "python3"
  },
  "language_info": {
   "codemirror_mode": {
    "name": "ipython",
    "version": 3
   },
   "file_extension": ".py",
   "mimetype": "text/x-python",
   "name": "python",
   "nbconvert_exporter": "python",
   "pygments_lexer": "ipython3",
   "version": "3.5.0"
  }
 },
 "nbformat": 4,
 "nbformat_minor": 0
}
