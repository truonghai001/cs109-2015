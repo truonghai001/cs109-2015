{
 "cells": [
  {
   "cell_type": "code",
   "execution_count": 38,
   "metadata": {
    "collapsed": false
   },
   "outputs": [
    {
     "name": "stdout",
     "output_type": "stream",
     "text": [
      "Item is  10\n",
      "Item is  20\n",
      "Item is  30\n",
      "Item is  40\n",
      "Item is  50\n"
     ]
    }
   ],
   "source": [
    "x = [10, 20, 30, 40, 50]\n",
    "for item in x:\n",
    "    print (\"Item is \", item)"
   ]
  },
  {
   "cell_type": "code",
   "execution_count": 39,
   "metadata": {
    "collapsed": false
   },
   "outputs": [
    {
     "name": "stdout",
     "output_type": "stream",
     "text": [
      "IPython version:  4.0.0(need at least 3.0.0)\n",
      "NumPy version: 1.10.1 (need at least 1.9.1)\n",
      "SciPy version: 0.16.0 (need at least 1.15.1)\n",
      "Pandas version: 0.17.0 (need at least 0.16.2)\n",
      "Matplotlib version:  1.4.3 (need at least 1.4.1)\n",
      "Scikit version: 0.16.1 (need at least 0.16.1)\n",
      "Requests version:  2.8.1 (need at least 2.0)\n",
      "BeautifulSoup version:  4.4.1 (need at least 4.4)\n",
      "Loaded PyQuery\n"
     ]
    }
   ],
   "source": [
    "import IPython\n",
    "print(\"IPython version: %6.6s(need at least 3.0.0)\" % IPython.__version__)\n",
    "\n",
    "# Nympy \n",
    "import numpy as np\n",
    "print(\"NumPy version: %6.6s (need at least 1.9.1)\" % np.__version__)\n",
    "\n",
    "# Scipy\n",
    "import scipy as sp\n",
    "print(\"SciPy version: %6.6s (need at least 1.15.1)\" % sp.__version__)\n",
    "\n",
    "# pandas\n",
    "import pandas as pd\n",
    "print(\"Pandas version: %6.6s (need at least 0.16.2)\" % pd.__version__)\n",
    "\n",
    "# plotting\n",
    "import matplotlib\n",
    "print(\"Matplotlib version: %6.6s (need at least 1.4.1)\" % matplotlib.__version__)\n",
    "\n",
    "#scikit\n",
    "import sklearn\n",
    "print(\"Scikit version: %6.6s (need at least 0.16.1)\" % sklearn.__version__)\n",
    "\n",
    "# requests\n",
    "import requests\n",
    "print(\"Requests version: %6.6s (need at least 2.0)\" % requests.__version__)\n",
    "\n",
    "# BeautifulSoup\n",
    "import bs4\n",
    "print(\"BeautifulSoup version: %6.6s (need at least 4.4)\" %bs4.__version__)\n",
    "\n",
    "import pyquery\n",
    "print (\"Loaded PyQuery\")"
   ]
  },
  {
   "cell_type": "code",
   "execution_count": 40,
   "metadata": {
    "collapsed": false
   },
   "outputs": [],
   "source": [
    "# The %... is an iPython thing, and is not part of the Python language\n",
    "# In this case we're just telling the plotting library to draw things on\n",
    "# the notebook, instead of on a separate windoe\n",
    "%matplotlib inline\n",
    "\n",
    "# See all the \"as ...\" constructs?\n",
    "# They're just aliasing the package names.\n",
    "# That way we can call methods line plt.plot() instead of matplotlib.pyplot.plot()\n",
    "\n",
    "import numpy as np\n",
    "import scipy as sp\n",
    "import matplotlib as mpl\n",
    "import matplotlib.cm as cm\n",
    "import matplotlib.pylab as plt\n",
    "import pandas as pd\n",
    "import seaborn as sns\n",
    "\n",
    "# sets up pandas table display\n",
    "pd.set_option('display.width', 500)\n",
    "pd.set_option('display.max_columns', 100)\n",
    "pd.set_option('display.notebook_repr_html', True)"
   ]
  },
  {
   "cell_type": "markdown",
   "metadata": {},
   "source": [
    "#### Hello matplotlib\n",
    "The notebook integrates nicely with Matplotlib"
   ]
  },
  {
   "cell_type": "code",
   "execution_count": 41,
   "metadata": {
    "collapsed": false
   },
   "outputs": [
    {
     "data": {
      "text/plain": [
       "<matplotlib.text.Text at 0x1baaaf0c2b0>"
      ]
     },
     "execution_count": 41,
     "metadata": {},
     "output_type": "execute_result"
    },
    {
     "data": {
      "image/png": "[encoded data removed]",
      "text/plain": [
       "<matplotlib.figure.Figure at 0x1baaaeb3cf8>"
      ]
     },
     "metadata": {},
     "output_type": "display_data"
    }
   ],
   "source": [
    "x = np.linspace(0, 10, 30) # array of 30 points from 0 to 10\n",
    "y = np.sin(x)\n",
    "z = y + np.random.normal(size=30) * .2\n",
    "plt.plot(x, y, 'o-', label='A sine wave')\n",
    "plt.plot(x, z, '-', label='Noisy sine')\n",
    "plt.legend(loc='lower right')\n",
    "plt.xlabel('X aixs')\n",
    "plt.ylabel('Y axis')"
   ]
  },
  {
   "cell_type": "markdown",
   "metadata": {},
   "source": [
    "#### Hello Numpy"
   ]
  },
  {
   "cell_type": "code",
   "execution_count": 42,
   "metadata": {
    "collapsed": false
   },
   "outputs": [
    {
     "name": "stdout",
     "output_type": "stream",
     "text": [
      "Make a 3x4 array of random numbers\n",
      "[[ 0.58080717  0.88159706  0.34022555  0.50963915]\n",
      " [ 0.4096524   0.16306106  0.54363023  0.62072228]\n",
      " [ 0.06218952  0.1967948   0.78113624  0.799671  ]]\n",
      "\n",
      "Add to every element\n",
      "[[ 1.58080717  1.88159706  1.34022555  1.50963915]\n",
      " [ 1.4096524   1.16306106  1.54363023  1.62072228]\n",
      " [ 1.06218952  1.1967948   1.78113624  1.799671  ]]\n",
      "\n",
      "Get the element at row 1, column 2\n",
      "1.54363023006\n",
      "\n",
      "Get the first row\n",
      "[ 1.58080717  1.88159706  1.34022555  1.50963915]\n",
      "\n",
      "Get every 2nd column of the first row\n",
      "[ 1.58080717  1.34022555]\n",
      "\n"
     ]
    }
   ],
   "source": [
    "print ('Make a 3x4 array of random numbers')\n",
    "x =np.random.random((3, 4))\n",
    "print(x)\n",
    "print()\n",
    "\n",
    "print('Add to every element')\n",
    "x = x + 1\n",
    "print(x)\n",
    "print()\n",
    "\n",
    "print('Get the element at row 1, column 2')\n",
    "print(x[1, 2])\n",
    "print()\n",
    "\n",
    "# the coln syntax is called 'slicing' the array\n",
    "print('Get the first row')\n",
    "print(x[0,:])\n",
    "print()\n",
    "\n",
    "print('Get every 2nd column of the first row')\n",
    "print(x[0, ::2])\n",
    "print()\n"
   ]
  },
  {
   "cell_type": "code",
   "execution_count": 43,
   "metadata": {
    "collapsed": false
   },
   "outputs": [
    {
     "name": "stdout",
     "output_type": "stream",
     "text": [
      "Max is:  1.88159706356\n",
      "Min is:  1.06218951705\n",
      "Mean is:  1.49076053806\n",
      "Maximum for each row:  [ 1.88159706  1.62072228  1.799671  ]\n"
     ]
    }
   ],
   "source": [
    "print(\"Max is: \", x.max())\n",
    "print(\"Min is: \", x.min())\n",
    "print(\"Mean is: \", x.mean())\n",
    "print('Maximum for each row: ', x.max(axis=1))"
   ]
  },
  {
   "cell_type": "code",
   "execution_count": 44,
   "metadata": {
    "collapsed": false
   },
   "outputs": [
    {
     "name": "stdout",
     "output_type": "stream",
     "text": [
      "number of heads:  246\n"
     ]
    }
   ],
   "source": [
    "# Quickly simulate 500 coin 'fair' coin tosses\n",
    "x = np.random.binomial(500, .5)\n",
    "print('number of heads: ', x)"
   ]
  },
  {
   "cell_type": "code",
   "execution_count": 45,
   "metadata": {
    "collapsed": false
   },
   "outputs": [
    {
     "data": {
      "text/plain": [
       "(500,)"
      ]
     },
     "execution_count": 45,
     "metadata": {},
     "output_type": "execute_result"
    },
    {
     "data": {
      "image/png": "[encoded data removed]",
      "text/plain": [
       "<matplotlib.figure.Figure at 0x1baaaf28a90>"
      ]
     },
     "metadata": {},
     "output_type": "display_data"
    }
   ],
   "source": [
    "# 3 ways to run the simulation\n",
    "\n",
    "# loop\n",
    "heads = []\n",
    "for i in range(500):\n",
    "    heads.append(np.random.binomial(500, .5))\n",
    "\n",
    "#  list comprehension\n",
    "heads = [np.random.binomial(500, .5) for i in range(500)]\n",
    "\n",
    "# pure numpy\n",
    "heads = np.random.binomial(500, .5, size=500)\n",
    "\n",
    "histogram = plt.hist(heads, bins=10)\n",
    "heads.shape"
   ]
  },
  {
   "cell_type": "markdown",
   "metadata": {
    "collapsed": true
   },
   "source": [
    "### The Monty Hall Problem\n",
    "Here's a fun and perhaps surprising statistical riddle, and a good way to get some practice writing python functions.<br/>\n",
    "In a gameshow, contestants try to guess which of 3 closed doors contain a cash prize (goats are behind the other two doors). Of course, the odds of choosing the correct door are 1 in 3. As a twist, the host of the show occasionally opens a door after a contestant makes his or her choice. This door is always one of the two the contestant did not pick, and is also always one of the goat doors (note that it is always possible to do this, since there are two goat doors). At this point, the contestant has the option of keeping his or her original choice, or swtiching to the other unopened door. The question is: is there any benefit to switching doors? The answer surprises many people who haven't heard the question before.<br/>\n",
    "We can answer the problem by running simulations in Python. We'll do it in several parts.<br/>\n",
    "First, write a function called simulate_prizedoor. This function will simulate the location of the prize in many games -- see the detailed specification below:"
   ]
  },
  {
   "cell_type": "code",
   "execution_count": 46,
   "metadata": {
    "collapsed": true
   },
   "outputs": [],
   "source": [
    "\"\"\"\n",
    "Function\n",
    "--------\n",
    "simulate_prizedoor\n",
    "\n",
    "Generate a random array of 0s, 1s, and 2s, representing\n",
    "hidding a prize between door 0, door 1, and door 2\n",
    "\n",
    "Parameters\n",
    "----------\n",
    "nsim : int\n",
    "    The number of simulations to run\n",
    "\n",
    "Returns\n",
    "-------\n",
    "sims : array\n",
    "    Random array of 0s, 1s, and 2s\n",
    "\n",
    "Example\n",
    "-------\n",
    ">>> print(simulate_prizedoor(3))\n",
    "array([0, 0, 2])\n",
    "\"\"\"\n",
    "\n",
    "def simulate_prizedoor(nsim):\n",
    "    return np.random.randint(0, 3, (nsim))"
   ]
  },
  {
   "cell_type": "code",
   "execution_count": 47,
   "metadata": {
    "collapsed": true
   },
   "outputs": [],
   "source": [
    "# Write a function that simulates the contestant's guesses for nsim simulations\n",
    "\n",
    "\"\"\"\n",
    "Function\n",
    "--------\n",
    "simulate_guess\n",
    "\n",
    "Return a strategy for guessing which door a prise is behind.\n",
    "This could be a random strategy, at that always guesses 2, whatever\n",
    "\n",
    "Parameters\n",
    "----------\n",
    "nsim : int\n",
    "    The number of simulations to generate guesses for\n",
    "\n",
    "Returns\n",
    "-------\n",
    "guesses : array\n",
    "    An array of guesses. Each guess is a 0, 1, or 2\n",
    "\n",
    "Example\n",
    "-------\n",
    ">>> print simulate_guess(5)\n",
    "array([0, 0, 0, 0, 0])\n",
    "\"\"\"\n",
    "def simulate_guess(nsim):\n",
    "    return np.zeros(nsim, dtype=np.int)"
   ]
  },
  {
   "cell_type": "code",
   "execution_count": 48,
   "metadata": {
    "collapsed": true
   },
   "outputs": [],
   "source": [
    "# Write a function, goat_door, to simulate randomly revealing one of the goat doors that a contestant didn't pick.\n",
    "\n",
    "\"\"\"\n",
    "Function\n",
    "--------\n",
    "goat_door\n",
    "\n",
    "Simulate the opening of a \"goat door\" that doesn't contain the prize,\n",
    "and is different from the contestants guess\n",
    "\n",
    "Paramenters\n",
    "-----------\n",
    "prizedoor : array\n",
    "    The door that the prize is behind in each simulation\n",
    "guesses : array\n",
    "    The door that the contestant guessed in each sumulation\n",
    "    \n",
    "Returns\n",
    "-------\n",
    "goats: array\n",
    "    The goat door that is opened for each simulation. Each item is 0, 1, or 2, \n",
    "    and is different from both prizedoors and guesses\n",
    "\n",
    "Examples\n",
    "--------\n",
    ">>> print goat_door(np.array([0, 1, 2]), np.array([1, 1, 1]))\n",
    ">>> array([2, 2, 0])\n",
    "\"\"\"\n",
    "def goat_door(prizedoors, guesses):\n",
    "    #strategy: generate random answers, and\n",
    "    #keep updating until they statisfy the rule\n",
    "    # that they aren't a prizedoor or a guess\n",
    "    result = np.random.randint(0, 3, prizedoors.size)\n",
    "    while True:\n",
    "        bad = (result == prizedoors) | (result == guesses)\n",
    "        if not bad.any():\n",
    "            return result\n",
    "        result[bad] = np.random.randint(0, 3, bad.sum())"
   ]
  },
  {
   "cell_type": "code",
   "execution_count": 49,
   "metadata": {
    "collapsed": true
   },
   "outputs": [],
   "source": [
    "# function switch_guess, that represent the strategy of always switching a guess after the goat door is opened\n",
    "\"\"\"\n",
    "Function\n",
    "--------\n",
    "switch_guess\n",
    "\n",
    "The strategy that always switches a guess after the goat door is opened\n",
    "\n",
    "Parameters\n",
    "----------\n",
    "guesses : array\n",
    "    Array of original guesses, for each simulation\n",
    "goatdoors : array\n",
    "    Array of revealed goat doors for each simulation\n",
    "\n",
    "Returns\n",
    "-------\n",
    "The new door after switching. Should be different from both guesses and goatdoors\n",
    "\n",
    "Examples\n",
    "--------\n",
    ">>> print switch_guess(np.array([0, 1, 2]), np.array([1, 2, 1]))\n",
    ">>> array([2, 0, 0])\n",
    "\"\"\"\n",
    "def switch_guess(guesses, goatdoors):\n",
    "    result = np.zeros(guesses.size)\n",
    "    switch = {(0, 1): 2, (0, 2): 1, (1, 0): 2, (1, 2): 0, (2, 0): 1, (2, 1): 0}\n",
    "    for i in [0, 1, 2]:\n",
    "        for j in [0, 1, 2]:\n",
    "            mask = (guesses == i) & (goatdoors == j)\n",
    "            if not mask.any():\n",
    "                continue\n",
    "            result = np.where(mask, np.ones_like(result) * switch[(i,j)], result)\n",
    "    return result"
   ]
  },
  {
   "cell_type": "code",
   "execution_count": 50,
   "metadata": {
    "collapsed": true
   },
   "outputs": [],
   "source": [
    "\"\"\"\n",
    "Function\n",
    "--------\n",
    "win_percentage\n",
    "\n",
    "Calculate the percent of times that a simulation of guesses is correct\n",
    "\n",
    "Parameters\n",
    "----------\n",
    "guesses : array\n",
    "    Guesses for each simulation\n",
    "prizedoors : array\n",
    "    Location of prize for each simulation\n",
    "\n",
    "Returns\n",
    "-------\n",
    "percentage : number between 0 and 100\n",
    "    The win percentage\n",
    "    \n",
    "Examples\n",
    "---------\n",
    ">>> print win_percentage(np.array([0, 1, 2]), np.array([0, 0, 0]))\n",
    "33.333\n",
    "\n",
    "\"\"\"\n",
    "\n",
    "def win_percentage(guesses, prizedoors):\n",
    "    return 100 * (guesses == prizedoors).mean()"
   ]
  },
  {
   "cell_type": "code",
   "execution_count": 51,
   "metadata": {
    "collapsed": false
   },
   "outputs": [
    {
     "name": "stdout",
     "output_type": "stream",
     "text": [
      "Win percentage when keeping original door\n",
      "33.64\n",
      "Win percentage when switching doors\n",
      "66.78\n"
     ]
    }
   ],
   "source": [
    "nsim = 10000\n",
    "\n",
    "#keep guesses\n",
    "print(\"Win percentage when keeping original door\")\n",
    "print(win_percentage(simulate_prizedoor(nsim), simulate_guess(nsim)))\n",
    "\n",
    "#switch\n",
    "pd = simulate_prizedoor(nsim)\n",
    "guess = simulate_guess(nsim)\n",
    "goats = goat_door(pd, guess)\n",
    "guess = switch_guess(guess, goats)\n",
    "print(\"Win percentage when switching doors\")\n",
    "print(win_percentage(pd, guess).mean())"
   ]
  },
  {
   "cell_type": "code",
   "execution_count": null,
   "metadata": {
    "collapsed": true
   },
   "outputs": [],
   "source": []
  }
 ],
 "metadata": {
  "kernelspec": {
   "display_name": "Python 3",
   "language": "python",
   "name": "python3"
  },
  "language_info": {
   "codemirror_mode": {
    "name": "ipython",
    "version": 3
   },
   "file_extension": ".py",
   "mimetype": "text/x-python",
   "name": "python",
   "nbconvert_exporter": "python",
   "pygments_lexer": "ipython3",
   "version": "3.5.0"
  }
 },
 "nbformat": 4,
 "nbformat_minor": 0
}
